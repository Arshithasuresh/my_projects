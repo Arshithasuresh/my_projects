{
  "nbformat": 4,
  "nbformat_minor": 0,
  "metadata": {
    "colab": {
      "provenance": []
    },
    "kernelspec": {
      "name": "python3",
      "display_name": "Python 3"
    },
    "language_info": {
      "name": "python"
    }
  },
  "cells": [
    {
      "cell_type": "code",
      "source": [
        "from sklearn.linear_model import LogisticRegression\n",
        "from sklearn.model_selection import train_test_split\n",
        "from sklearn.metrics import accuracy_score\n",
        "\n",
        "\n",
        "# Define data\n",
        "symptoms = [\n",
        "    [\"headache\", \"fever\", \"chills\"],\n",
        "    [\"cough\", \"sore throat\", \"runny nose\"],\n",
        "    [\"nausea\", \"vomiting\", \"diarrhea\"],\n",
        "    [\"fatigue\", \"muscle aches\", \"joint pain\"],\n",
        "    [\"skin rash\", \"itching\", \"hives\"],\n",
        "]\n",
        "diseases = [\n",
        "    \"common cold\", \"flu\", \"food poisoning\", \"muscle pain\", \"allergic reaction\"\n",
        "]\n",
        "\n",
        "# Define symptom list for user input\n",
        "symptom_options = [\n",
        "    \"headache\",\n",
        "    \"fever\",\n",
        "    \"chills\",\n",
        "    \"cough\",\n",
        "    \"sore throat\",\n",
        "    \"runny nose\",\n",
        "    \"nausea\",\n",
        "    \"vomiting\",\n",
        "    \"diarrhea\",\n",
        "    \"fatigue\",\n",
        "    \"muscle aches\",\n",
        "    \"joint pain\",\n",
        "    \"skin rash\",\n",
        "    \"itching\",\n",
        "    \"hives\",\n",
        "]\n",
        "\n",
        "# Convert data to numerical representation\n",
        "encoded_symptoms = [[1 if symptom in row else 0 for symptom in symptom_options]\n",
        "                     for row in symptoms]\n",
        "\n",
        "# Split data into training and testing sets\n",
        "X_train, X_test, y_train, y_test = train_test_split(encoded_symptoms, diseases, test_size=0.2)\n",
        "\n",
        "# Train model\n",
        "model = LogisticRegression(max_iter=1000)\n",
        "model.fit(X_train, y_train)\n",
        "\n",
        "# Make predictions\n",
        "predictions = model.predict(X_test)\n",
        "\n",
        "# Evaluate model accuracy\n",
        "accuracy = accuracy_score(y_test, predictions)\n",
        "\n",
        "\n",
        "# Define a function to predict disease\n",
        "def predict_disease(symptoms):\n",
        "    # Convert user-provided symptoms to numerical representation\n",
        "    user_encoded_symptoms = [1 if symptom in symptoms else 0 for symptom in symptom_options]\n",
        "\n",
        "    # Predict disease based on user symptoms\n",
        "    predicted_disease = model.predict([user_encoded_symptoms])[0]\n",
        "    return predicted_disease\n",
        "\n",
        "\n",
        "# Get user input for 3 symptoms\n",
        "for symptom in symptom_options:\n",
        "  print(symptom)\n",
        "\n",
        "user_symptoms = []\n",
        "for i in range(1, 4):\n",
        "    symptom = input(f\"Enter symptom {i}: \").lower()\n",
        "    user_symptoms.append(symptom)\n",
        "\n",
        "# Predict and display disease based on user input\n",
        "predicted_disease = predict_disease(user_symptoms)\n",
        "\n",
        "print(f\"Predicted disease for your symptoms: {predicted_disease}\")"
      ],
      "metadata": {
        "colab": {
          "base_uri": "https://localhost:8080/"
        },
        "id": "haY0JXKnZfLC",
        "outputId": "bde78be5-d09b-481c-ed4e-2a233729a498"
      },
      "execution_count": null,
      "outputs": [
        {
          "output_type": "stream",
          "name": "stdout",
          "text": [
            "headache\n",
            "fever\n",
            "chills\n",
            "cough\n",
            "sore throat\n",
            "runny nose\n",
            "nausea\n",
            "vomiting\n",
            "diarrhea\n",
            "fatigue\n",
            "muscle aches\n",
            "joint pain\n",
            "skin rash\n",
            "itching\n",
            "hives\n",
            "Enter symptom 1: cough\n",
            "Enter symptom 2: fever\n",
            "Enter symptom 3: headache\n",
            "Predicted disease for your symptoms: common cold\n"
          ]
        }
      ]
    }
  ]
}